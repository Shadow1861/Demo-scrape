{
 "cells": [
  {
   "cell_type": "code",
   "execution_count": null,
   "metadata": {},
   "outputs": [],
   "source": [
    "import numpy as np\n",
    "import pandas as pd\n",
    "import requests\n",
    "import pickle\n",
    "from bs4 import BeautifulSoup\n",
    "import jieba\n",
    "import re\n",
    "import itertools\n",
    "import time\n",
    "import os\n",
    "import json"
   ]
  },
  {
   "cell_type": "code",
   "execution_count": null,
   "metadata": {},
   "outputs": [],
   "source": [
    "# scrapy everything down\n",
    "cywl_list = [\"https://guba.eastmoney.com/list,603569_\" + str(i) + \".html\" for i in range(1,370)]\n",
    "cywl_iterator = iter(cywl_list)\n",
    "headers={\"User-Agent\": \"Mozilla/5.0 (Windows NT 10.0; Win64; x64; rv:87.0)Gecko/20100101 Firefox/87.0\"}\n",
    "results = []\n",
    "count = 1\n",
    "for url in cywl_iterator:\n",
    "    print(url)\n",
    "    ind_not_get_data = True\n",
    "    try:\n",
    "        res = requests.get(url,headers = headers,timeout=10)\n",
    "        time.sleep(np.random.randint(0,3))\n",
    "        ind_not_get_data = False\n",
    "        #res.encoding(\"GB2312\")\n",
    "        print(f\"{count}page is done\")\n",
    "        results.append(res)\n",
    "        count += 1\n",
    "    except:\n",
    "        print(\"Fail because of Timeout\")\n",
    "        url_temp = url"
   ]
  },
  {
   "cell_type": "code",
   "execution_count": null,
   "metadata": {},
   "outputs": [],
   "source": [
    "if not os.path.exists(\"data\"):\n",
    "    os.makedirs(\"data\")\n",
    "\n",
    "for i in range(len(results)):\n",
    "    name = str(i) + \".html\"\n",
    "    with open(\"data/\" + name,\"w+\",encoding=\"utf-8\") as f:\n",
    "        res = results[i]\n",
    "        res.encoding=res.apparent_encoding\n",
    "        f.write(results[i].text)"
   ]
  },
  {
   "cell_type": "code",
   "execution_count": null,
   "metadata": {},
   "outputs": [],
   "source": [
    "# how I get the right RE\n",
    "\"\"\" \n",
    "p1 = r'<tr.+?ter\">.+?(\\d{4}-\\d{2}-\\d{2}).+?</div.+?ter\">(.+?)</div.+?ter\">(.+?)</div.+?ter\">(.+?)</div>.+?ter\">(.+?)</div.+?ter\">(.+?)</div.+?ter\">(.+?)</div>'\n",
    "p2 = r'<tr data-index.+?<td class=\"decs_col\".+?<a href=.+?>(.+?)<.+?'\n",
    "pattern2 = r'class=\"listitem\">.+?\"read\">(.+?)</div>.+?\"reply\">(.+?)</div>.+?\"title\">(.+?)</a>.+?\"author\">(.+?)</a>.+?\"update\">(.+?)</div>'\n",
    "pattern3 = r'class=\"listitem\">.+?\"read\">(.+?)</div>.+?\"reply\">(.+?)</div>.+?\"title\">.+?.html\">(.+?)</a>.+?\"author\">(.+?)</a>.+?\"update\">(.+?)</div>'\n",
    "pattern4 = r'class=\"listitem\">.+?\"read\">(.+?)</div>.+?\"reply\">(.+?)</div>.+?\"title\">.+?.html\">(.+?)</a>.+?\"author\">.+?\">(.+?)</a>.+?\"update\">(.+?)</div>'\n",
    "\"\"\"\n",
    "p = r'class=\"listitem\">.+?\"read\">(.+?)</div>.+?\"reply\">(.+?)</div>.+?\"title\">.+?.html\">(.+?)</a>.+?\"author\">.+?\">(.+?)</a>.+?\"update\">(.+?)</div>'\n",
    "\n",
    "with open(\"10.html\",\"r\",encoding = \"utf-8\") as f:\n",
    "    res = f.read()\n",
    "match = re.findall(p,res,re.S)\n",
    "match"
   ]
  },
  {
   "cell_type": "code",
   "execution_count": null,
   "metadata": {},
   "outputs": [],
   "source": [
    "if not os.path.exists(\"res\"):\n",
    "    os.makedirs(\"res\")\n",
    "\n",
    "results = []\n",
    "num = []\n",
    "count = 0\n",
    "for i in range(361):\n",
    "    name = str(i) + \".html\"\n",
    "    with open(name,\"r\",encoding=\"utf-8\") as f:\n",
    "        temp = f.read()\n",
    "    result = re.findall(p,temp,re.S)\n",
    "    results += result\n",
    "res_df = pd.DataFrame(results,columns=[\"comment\",\"reply\",\"content\",\"author\",\"time\"])\n",
    "#res_df.to_excel(\"result/cywl_gb.xlsx\",encoding=\"utf-8\")\n",
    "year = 2023\n",
    "for i in range(len(res_df[\"time\"])-1):\n",
    "    if res_df[\"time\"][i][:2] == \"01\" and res_df[\"time\"][i+1][:2] == \"12\":\n",
    "        year -= 1\n",
    "    res_df[\"time\"][i] = str(year) + \"-\" + res_df[\"time\"][i]\n",
    "res_df.iloc[-1,4] = str(year) + \"-\" + res_df.iloc[-1,4]\n",
    "res_df[\"time\"] = pd.to_datetime(res_df[\"time\"])\n",
    "res_df[\"time2\"] = pd.to_datetime(res_df[\"time\"].apply(lambda x:str(x)[:10]),format = \"%Y-%m-%d\")\n",
    "i1 = res_df[\"time\"].groupby(res_df[\"time2\"]).count()\n",
    "i2 = res_df[\"reply\"].groupby(res_df[\"time2\"]).mean()\n",
    "i3 = pd.Series(i1 * i2,name=\"flc\")\n",
    "res_df.to_excel(\"res/res.xlsx\",encoding=\"utf-8\")"
   ]
  }
 ],
 "metadata": {
  "kernelspec": {
   "display_name": "bench_env",
   "language": "python",
   "name": "bench_env"
  },
  "language_info": {
   "codemirror_mode": {
    "name": "ipython",
    "version": 3
   },
   "file_extension": ".py",
   "mimetype": "text/x-python",
   "name": "python",
   "nbconvert_exporter": "python",
   "pygments_lexer": "ipython3",
   "version": "3.11.2"
  }
 },
 "nbformat": 4,
 "nbformat_minor": 2
}
